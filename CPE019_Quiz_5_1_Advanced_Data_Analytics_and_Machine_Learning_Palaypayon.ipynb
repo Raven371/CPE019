{
  "nbformat": 4,
  "nbformat_minor": 0,
  "metadata": {
    "colab": {
      "provenance": [],
      "authorship_tag": "ABX9TyNczXjeJsSeDJ3cU0Kub3XR",
      "include_colab_link": true
    },
    "kernelspec": {
      "name": "python3",
      "display_name": "Python 3"
    },
    "language_info": {
      "name": "python"
    }
  },
  "cells": [
    {
      "cell_type": "markdown",
      "metadata": {
        "id": "view-in-github",
        "colab_type": "text"
      },
      "source": [
        "<a href=\"https://colab.research.google.com/github/Raven371/CPE019/blob/main/CPE019_Quiz_5_1_Advanced_Data_Analytics_and_Machine_Learning_Palaypayon.ipynb\" target=\"_parent\"><img src=\"https://colab.research.google.com/assets/colab-badge.svg\" alt=\"Open In Colab\"/></a>"
      ]
    },
    {
      "cell_type": "markdown",
      "source": [
        "Technological Institute of the Philippines | Quezon City - Computer Engineering\n",
        "--- | ---\n",
        "Course Code: | CPE 019\n",
        "Code Title: | Emerging Technologies 2 in CpE\n",
        "2nd Semester | AY 2025-2026\n",
        "<hr> | <hr>\n",
        "<u>Quiz 5.1 | Advanced Data Analytics and Machine Learning\n",
        "**Name** | Palaypayon, Raven\n",
        "**Section** | CPE31S4\n",
        "**Date Submitted**: |February 19, 2024\n",
        "**Instructor**: | Dr. Richard Monreal"
      ],
      "metadata": {
        "id": "-dXXw0xiY87-"
      }
    },
    {
      "cell_type": "markdown",
      "source": [
        "# SET B"
      ],
      "metadata": {
        "id": "4ybw5eB7ZiA8"
      }
    },
    {
      "cell_type": "markdown",
      "source": [
        "Write a program to select the 'attempts' and 'qualify' columns from the following DataFrame."
      ],
      "metadata": {
        "id": "ha1e1pQvZtM9"
      }
    },
    {
      "cell_type": "code",
      "source": [
        "import pandas as pd\n",
        "import numpy as np\n",
        "\n",
        "exam_data = {'name': ['Anastasia', 'Dima', 'Katherine', 'James', 'Emily', 'Michael', 'Matthew', 'Laura', 'Kevin', 'Jonas'],\n",
        "'score': [12.5, 9, 16.5, np.nan, 9, 20, 14.5, np.nan, 8, 19],\n",
        "'attempts': [1, 3, 2, 3, 2, 3, 1, 1, 2, 1],\n",
        "'qualify': ['yes', 'no', 'yes', 'no', 'no', 'yes', 'yes', 'no', 'no', 'yes']}\n",
        "labels = ['a', 'b', 'c', 'd', 'e', 'f', 'g', 'h', 'i', 'j']\n",
        "\n",
        "df = pd.DataFrame(exam_data , index=labels)\n",
        "print(df[['attempts', 'qualify']])"
      ],
      "metadata": {
        "colab": {
          "base_uri": "https://localhost:8080/"
        },
        "id": "8NqWm6B6cwxy",
        "outputId": "fed0bc4c-229e-43a0-d608-bc885b42dfd6"
      },
      "execution_count": 2,
      "outputs": [
        {
          "output_type": "stream",
          "name": "stdout",
          "text": [
            "   attempts qualify\n",
            "a         1     yes\n",
            "b         3      no\n",
            "c         2     yes\n",
            "d         3      no\n",
            "e         2      no\n",
            "f         3     yes\n",
            "g         1     yes\n",
            "h         1      no\n",
            "i         2      no\n",
            "j         1     yes\n"
          ]
        }
      ]
    },
    {
      "cell_type": "markdown",
      "source": [
        "**Learnings:**"
      ],
      "metadata": {
        "id": "HQR1yZV_deEa"
      }
    },
    {
      "cell_type": "markdown",
      "source": [
        "I import necessary libraries that would help me, I also create dataframe defining the data labels as dictionaries. This concise selection method allows for easy manipulation and analysis of your data. For more detailed information, refer to the official"
      ],
      "metadata": {
        "id": "OkoyFqpLeB7R"
      }
    }
  ]
}